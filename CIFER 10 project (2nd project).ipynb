{
 "cells": [
  {
   "cell_type": "code",
   "execution_count": 100,
   "id": "f35349dc",
   "metadata": {},
   "outputs": [],
   "source": [
    "import tensorflow.keras as keras\n",
    "import tensorflow as tf"
   ]
  },
  {
   "cell_type": "code",
   "execution_count": 101,
   "id": "b92f0cc5",
   "metadata": {},
   "outputs": [],
   "source": [
    "(x_train, y_train), (x_test, y_test) = keras.datasets.cifar10.load_data()\n",
    "class_name = {0: 'airplane', 1: 'airplane', 2: 'airplane', 3: 'cat', 4: 'deer', 5: 'dog', 6: 'frog', 7: 'horse', 8: 'ship', 9: 'truck'}"
   ]
  },
  {
   "cell_type": "code",
   "execution_count": 102,
   "id": "6a3f2b9d",
   "metadata": {},
   "outputs": [
    {
     "data": {
      "text/plain": [
       "Text(0.5, 0, \"This is frog's Image.\")"
      ]
     },
     "execution_count": 102,
     "metadata": {},
     "output_type": "execute_result"
    },
    {
     "data": {
      "image/png": "[encoded data removed]",
      "text/plain": [
       "<Figure size 432x288 with 1 Axes>"
      ]
     },
     "metadata": {
      "needs_background": "light"
     },
     "output_type": "display_data"
    }
   ],
   "source": [
    "import matplotlib.pyplot as plt\n",
    "\n",
    "plt.imshow(x_train[0])\n",
    "plt.xlabel(\"This is {0}'s Image.\".format(class_name[y_train[0][0]]))"
   ]
  },
  {
   "cell_type": "code",
   "execution_count": 103,
   "id": "b673e578",
   "metadata": {},
   "outputs": [
    {
     "name": "stdout",
     "output_type": "stream",
     "text": [
      "(32, 32, 3)\n",
      "x_train.shape = (50000, 32, 32, 3)\n",
      "y_train.shape = (50000, 1)\n",
      "[[6]\n",
      " [9]\n",
      " [9]\n",
      " ...\n",
      " [9]\n",
      " [1]\n",
      " [1]]\n"
     ]
    }
   ],
   "source": [
    "print(x_train[0].shape)\n",
    "y_train\n",
    "\n",
    "print('x_train.shape = {0}'.format(x_train.shape))\n",
    "print('y_train.shape = {0}'.format(y_train.shape))\n",
    "print(y_train)"
   ]
  },
  {
   "cell_type": "code",
   "execution_count": 104,
   "id": "f5a47758",
   "metadata": {},
   "outputs": [],
   "source": [
    "model = keras.Sequential([\n",
    "    keras.layers.Conv2D(filters=32, kernel_size=(2,2), activation='relu', input_shape=(32, 32, 3)),\n",
    "    keras.layers.MaxPool2D(2, 2),\n",
    "    \n",
    "    keras.layers.Conv2D(filters=64, kernel_size=(2,2), activation='relu'),\n",
    "    keras.layers.MaxPool2D(2, 2),\n",
    "    \n",
    "    keras.layers.Conv2D(filters=128, kernel_size=(2,2), activation='relu'),\n",
    "    keras.layers.MaxPool2D(2, 2),\n",
    "    \n",
    "    keras.layers.Flatten(),\n",
    "    keras.layers.Dense(units=256, activation='relu'),\n",
    "    keras.layers.Dense(units=10, activation='softmax')\n",
    "])"
   ]
  },
  {
   "cell_type": "code",
   "execution_count": 105,
   "id": "70b8f989",
   "metadata": {},
   "outputs": [],
   "source": [
    "model.compile(\n",
    "    optimizer= keras.optimizers.Adam(),\n",
    "    loss= keras.losses.SparseCategoricalCrossentropy(from_logits=False, reduction='auto', name='sparse_categorical_crossentropy'),\n",
    "    metrics= ['accuracy']\n",
    ")"
   ]
  },
  {
   "cell_type": "code",
   "execution_count": 106,
   "id": "b7ac74e1",
   "metadata": {},
   "outputs": [
    {
     "name": "stdout",
     "output_type": "stream",
     "text": [
      "Model: \"sequential_3\"\n",
      "_________________________________________________________________\n",
      "Layer (type)                 Output Shape              Param #   \n",
      "=================================================================\n",
      "conv2d_9 (Conv2D)            (None, 31, 31, 32)        416       \n",
      "_________________________________________________________________\n",
      "max_pooling2d_9 (MaxPooling2 (None, 15, 15, 32)        0         \n",
      "_________________________________________________________________\n",
      "conv2d_10 (Conv2D)           (None, 14, 14, 64)        8256      \n",
      "_________________________________________________________________\n",
      "max_pooling2d_10 (MaxPooling (None, 7, 7, 64)          0         \n",
      "_________________________________________________________________\n",
      "conv2d_11 (Conv2D)           (None, 6, 6, 128)         32896     \n",
      "_________________________________________________________________\n",
      "max_pooling2d_11 (MaxPooling (None, 3, 3, 128)         0         \n",
      "_________________________________________________________________\n",
      "flatten_3 (Flatten)          (None, 1152)              0         \n",
      "_________________________________________________________________\n",
      "dense_6 (Dense)              (None, 256)               295168    \n",
      "_________________________________________________________________\n",
      "dense_7 (Dense)              (None, 10)                2570      \n",
      "=================================================================\n",
      "Total params: 339,306\n",
      "Trainable params: 339,306\n",
      "Non-trainable params: 0\n",
      "_________________________________________________________________\n"
     ]
    }
   ],
   "source": [
    "model.summary()"
   ]
  },
  {
   "cell_type": "code",
   "execution_count": 147,
   "id": "848ecf96",
   "metadata": {},
   "outputs": [
    {
     "name": "stdout",
     "output_type": "stream",
     "text": [
      "Epoch 1/10\n",
      "782/782 [==============================] - 13s 16ms/step - loss: 0.1762 - accuracy: 0.9436 - val_loss: 2.3109 - val_accuracy: 0.6931\n",
      "Epoch 2/10\n",
      "782/782 [==============================] - 12s 15ms/step - loss: 0.1658 - accuracy: 0.9469 - val_loss: 2.4076 - val_accuracy: 0.6863\n",
      "Epoch 3/10\n",
      "782/782 [==============================] - 12s 15ms/step - loss: 0.1587 - accuracy: 0.9492 - val_loss: 2.4122 - val_accuracy: 0.6814\n",
      "Epoch 4/10\n",
      "782/782 [==============================] - 14s 18ms/step - loss: 0.1370 - accuracy: 0.9555 - val_loss: 2.5449 - val_accuracy: 0.6814\n",
      "Epoch 5/10\n",
      "782/782 [==============================] - 14s 18ms/step - loss: 0.1688 - accuracy: 0.9470 - val_loss: 2.6290 - val_accuracy: 0.6692\n",
      "Epoch 6/10\n",
      "782/782 [==============================] - 14s 18ms/step - loss: 0.1326 - accuracy: 0.9578 - val_loss: 2.8989 - val_accuracy: 0.6821\n",
      "Epoch 7/10\n",
      "782/782 [==============================] - 14s 18ms/step - loss: 0.1375 - accuracy: 0.9580 - val_loss: 2.4777 - val_accuracy: 0.6914\n",
      "Epoch 8/10\n",
      "782/782 [==============================] - 14s 18ms/step - loss: 0.1544 - accuracy: 0.9536 - val_loss: 2.7939 - val_accuracy: 0.6711\n",
      "Epoch 9/10\n",
      "782/782 [==============================] - 14s 17ms/step - loss: 0.1353 - accuracy: 0.9573 - val_loss: 2.6608 - val_accuracy: 0.7039\n",
      "Epoch 10/10\n",
      "782/782 [==============================] - 14s 18ms/step - loss: 0.1492 - accuracy: 0.9540 - val_loss: 2.5701 - val_accuracy: 0.6799\n"
     ]
    }
   ],
   "source": [
    "history = model.fit(x_train, y_train, batch_size=64, epochs=10, validation_data=(x_test, y_test), validation_steps=64)"
   ]
  },
  {
   "cell_type": "markdown",
   "id": "a935bbac",
   "metadata": {},
   "source": [
    "# Evaluating Model"
   ]
  },
  {
   "cell_type": "code",
   "execution_count": 148,
   "id": "2f8480f3",
   "metadata": {},
   "outputs": [],
   "source": [
    "loss = history.history['loss']\n",
    "accuracy = history.history['accuracy']\n",
    "val_loss = history.history['val_loss']\n",
    "val_accuracy = history.history['val_accuracy']\n",
    "epochs = range(10)"
   ]
  },
  {
   "cell_type": "code",
   "execution_count": 149,
   "id": "8cffef3b",
   "metadata": {},
   "outputs": [
    {
     "data": {
      "text/plain": [
       "Text(0.5, 1.0, 'accuracy w.r.t epochs')"
      ]
     },
     "execution_count": 149,
     "metadata": {},
     "output_type": "execute_result"
    },
    {
     "data": {
      "image/png": "[encoded data removed]",
      "text/plain": [
       "<Figure size 432x288 with 2 Axes>"
      ]
     },
     "metadata": {
      "needs_background": "light"
     },
     "output_type": "display_data"
    }
   ],
   "source": [
    "plt.figure()\n",
    "plt.subplot(1, 2, 1)\n",
    "plt.plot(epochs, loss)\n",
    "plt.plot(epochs, val_loss, c='green')\n",
    "plt.title('loss w.r.t epochs')\n",
    "plt.subplot(1, 2, 2)\n",
    "plt.plot(epochs, accuracy)\n",
    "plt.plot(epochs, val_accuracy, c='green')\n",
    "plt.title('accuracy w.r.t epochs')"
   ]
  },
  {
   "cell_type": "code",
   "execution_count": 150,
   "id": "1f90e919",
   "metadata": {},
   "outputs": [],
   "source": [
    "y_pred = model.predict(x_test)"
   ]
  },
  {
   "cell_type": "code",
   "execution_count": 151,
   "id": "ac57f98e",
   "metadata": {},
   "outputs": [
    {
     "name": "stdout",
     "output_type": "stream",
     "text": [
      "1\n"
     ]
    }
   ],
   "source": [
    "import numpy as np\n",
    "\n",
    "print(np.argmax(y_pred[1]))"
   ]
  },
  {
   "cell_type": "code",
   "execution_count": 152,
   "id": "a66707d5",
   "metadata": {},
   "outputs": [
    {
     "data": {
      "text/plain": [
       "Text(0.5, 0, \"This is horse's Image. And prediction says this is horse\")"
      ]
     },
     "execution_count": 152,
     "metadata": {},
     "output_type": "execute_result"
    },
    {
     "data": {
      "image/png": "[encoded data removed]",
      "text/plain": [
       "<Figure size 432x288 with 1 Axes>"
      ]
     },
     "metadata": {
      "needs_background": "light"
     },
     "output_type": "display_data"
    }
   ],
   "source": [
    "plt.imshow(x_test[20])\n",
    "plt.xlabel(\"This is {0}'s Image. And prediction says this is {1}\".format(class_name[y_test[20][0]], class_name[np.argmax(y_pred[20])]))"
   ]
  }
 ],
 "metadata": {
  "kernelspec": {
   "display_name": "Python 3 (ipykernel)",
   "language": "python",
   "name": "python3"
  },
  "language_info": {
   "codemirror_mode": {
    "name": "ipython",
    "version": 3
   },
   "file_extension": ".py",
   "mimetype": "text/x-python",
   "name": "python",
   "nbconvert_exporter": "python",
   "pygments_lexer": "ipython3",
   "version": "3.9.12"
  }
 },
 "nbformat": 4,
 "nbformat_minor": 5
}
