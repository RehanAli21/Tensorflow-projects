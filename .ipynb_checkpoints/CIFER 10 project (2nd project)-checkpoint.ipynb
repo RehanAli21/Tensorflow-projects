{
 "cells": [
  {
   "cell_type": "code",
   "execution_count": 1,
   "id": "f35349dc",
   "metadata": {},
   "outputs": [],
   "source": [
    "import tensorflow.keras as keras\n",
    "import tensorflow as tf"
   ]
  },
  {
   "cell_type": "code",
   "execution_count": 31,
   "id": "b92f0cc5",
   "metadata": {},
   "outputs": [],
   "source": [
    "(x_train, y_train), (x_test, y_test) = keras.datasets.cifar10.load_data()\n",
    "class_name = {0: 'airplane', 1: 'airplane', 2: 'airplane', 3: 'cat', 4: 'deer', 5: 'dog', 6: 'frog', 7: 'horse', 8: 'ship', 9: 'truck'}"
   ]
  },
  {
   "cell_type": "code",
   "execution_count": 50,
   "id": "6a3f2b9d",
   "metadata": {},
   "outputs": [
    {
     "name": "stdout",
     "output_type": "stream",
     "text": [
      "___________________________\n",
      "This frog's Image.\n"
     ]
    },
    {
     "data": {
      "text/plain": [
       "<matplotlib.image.AxesImage at 0x291a32c26d0>"
      ]
     },
     "execution_count": 50,
     "metadata": {},
     "output_type": "execute_result"
    },
    {
     "data": {
      "image/png": "[encoded data removed]",
      "text/plain": [
       "<Figure size 288x288 with 1 Axes>"
      ]
     },
     "metadata": {
      "needs_background": "light"
     },
     "output_type": "display_data"
    }
   ],
   "source": [
    "import matplotlib.pyplot as plt\n",
    "\n",
    "print('___________________________')\n",
    "print(\"This {0}'s Image.\".format(class_name[y_train[0][0]]))\n",
    "plt.matshow(x_train[0])"
   ]
  },
  {
   "cell_type": "code",
   "execution_count": null,
   "id": "3505c02d",
   "metadata": {},
   "outputs": [],
   "source": []
  },
  {
   "cell_type": "code",
   "execution_count": 4,
   "id": "b673e578",
   "metadata": {},
   "outputs": [
    {
     "name": "stdout",
     "output_type": "stream",
     "text": [
      "(32, 32, 3)\n",
      "x_train.shape = (50000, 32, 32, 3)\n",
      "y_train.shape = (50000, 1)\n",
      "[[6]\n",
      " [9]\n",
      " [9]\n",
      " ...\n",
      " [9]\n",
      " [1]\n",
      " [1]]\n"
     ]
    }
   ],
   "source": [
    "print(x_train[0].shape)\n",
    "y_train\n",
    "\n",
    "print('x_train.shape = {0}'.format(x_train.shape))\n",
    "print('y_train.shape = {0}'.format(y_train.shape))\n",
    "print(y_train)"
   ]
  },
  {
   "cell_type": "code",
   "execution_count": 5,
   "id": "f5a47758",
   "metadata": {},
   "outputs": [],
   "source": [
    "model = keras.Sequential([\n",
    "    keras.layers.Conv2D(filters=32, kernel_size=(2,2), activation='relu', input_shape=(32, 32, 3)),\n",
    "    keras.layers.MaxPool2D(2, 2),\n",
    "    \n",
    "    keras.layers.Conv2D(filters=64, kernel_size=(2,2), activation='relu'),\n",
    "    keras.layers.MaxPool2D(2, 2),\n",
    "    \n",
    "    keras.layers.Conv2D(filters=128, kernel_size=(2,2), activation='relu'),\n",
    "    keras.layers.MaxPool2D(2, 2),\n",
    "    \n",
    "    keras.layers.Flatten(),\n",
    "    keras.layers.Dense(units=256, activation='relu'),\n",
    "    keras.layers.Dense(units=10, activation='softmax')\n",
    "])"
   ]
  },
  {
   "cell_type": "code",
   "execution_count": 10,
   "id": "70b8f989",
   "metadata": {},
   "outputs": [],
   "source": [
    "model.compile(\n",
    "    optimizer= keras.optimizers.Adam(),\n",
    "    loss= keras.losses.SparseCategoricalCrossentropy(from_logits=False, reduction='auto', name='sparse_categorical_crossentropy'),\n",
    "    metrics= ['accuracy']\n",
    ")"
   ]
  },
  {
   "cell_type": "code",
   "execution_count": 11,
   "id": "b7ac74e1",
   "metadata": {},
   "outputs": [
    {
     "name": "stdout",
     "output_type": "stream",
     "text": [
      "Model: \"sequential\"\n",
      "_________________________________________________________________\n",
      "Layer (type)                 Output Shape              Param #   \n",
      "=================================================================\n",
      "conv2d (Conv2D)              (None, 31, 31, 32)        416       \n",
      "_________________________________________________________________\n",
      "max_pooling2d (MaxPooling2D) (None, 15, 15, 32)        0         \n",
      "_________________________________________________________________\n",
      "conv2d_1 (Conv2D)            (None, 14, 14, 64)        8256      \n",
      "_________________________________________________________________\n",
      "max_pooling2d_1 (MaxPooling2 (None, 7, 7, 64)          0         \n",
      "_________________________________________________________________\n",
      "conv2d_2 (Conv2D)            (None, 6, 6, 128)         32896     \n",
      "_________________________________________________________________\n",
      "max_pooling2d_2 (MaxPooling2 (None, 3, 3, 128)         0         \n",
      "_________________________________________________________________\n",
      "flatten (Flatten)            (None, 1152)              0         \n",
      "_________________________________________________________________\n",
      "dense (Dense)                (None, 256)               295168    \n",
      "_________________________________________________________________\n",
      "dense_1 (Dense)              (None, 10)                2570      \n",
      "=================================================================\n",
      "Total params: 339,306\n",
      "Trainable params: 339,306\n",
      "Non-trainable params: 0\n",
      "_________________________________________________________________\n"
     ]
    }
   ],
   "source": [
    "model.summary()"
   ]
  },
  {
   "cell_type": "code",
   "execution_count": 13,
   "id": "848ecf96",
   "metadata": {},
   "outputs": [
    {
     "name": "stdout",
     "output_type": "stream",
     "text": [
      "Epoch 1/10\n",
      "782/782 [==============================] - 11s 15ms/step - loss: 0.6593 - accuracy: 0.7702\n",
      "Epoch 2/10\n",
      "782/782 [==============================] - 13s 16ms/step - loss: 0.5833 - accuracy: 0.7959\n",
      "Epoch 3/10\n",
      "782/782 [==============================] - 13s 17ms/step - loss: 0.5199 - accuracy: 0.8174\n",
      "Epoch 4/10\n",
      "782/782 [==============================] - 12s 16ms/step - loss: 0.4617 - accuracy: 0.8373\n",
      "Epoch 5/10\n",
      "782/782 [==============================] - 12s 15ms/step - loss: 0.3961 - accuracy: 0.8593\n",
      "Epoch 6/10\n",
      "782/782 [==============================] - 12s 16ms/step - loss: 0.3453 - accuracy: 0.8792\n",
      "Epoch 7/10\n",
      "782/782 [==============================] - 12s 16ms/step - loss: 0.3101 - accuracy: 0.8907\n",
      "Epoch 8/10\n",
      "782/782 [==============================] - 12s 15ms/step - loss: 0.2848 - accuracy: 0.8996\n",
      "Epoch 9/10\n",
      "782/782 [==============================] - 12s 15ms/step - loss: 0.2491 - accuracy: 0.9133\n",
      "Epoch 10/10\n",
      "782/782 [==============================] - 12s 16ms/step - loss: 0.2349 - accuracy: 0.9194\n"
     ]
    }
   ],
   "source": [
    "history = model.fit(x_train, y_train, batch_size=64, epochs=10)"
   ]
  },
  {
   "cell_type": "code",
   "execution_count": 20,
   "id": "56a5867d",
   "metadata": {},
   "outputs": [
    {
     "name": "stdout",
     "output_type": "stream",
     "text": [
      "157/157 [==============================] - 1s 5ms/step - loss: 1.5219 - accuracy: 0.6828\n"
     ]
    },
    {
     "data": {
      "text/plain": [
       "[1.5219238996505737, 0.6827999949455261]"
      ]
     },
     "execution_count": 20,
     "metadata": {},
     "output_type": "execute_result"
    }
   ],
   "source": [
    "model.evaluate(x_test, y_test, batch_size=64)"
   ]
  },
  {
   "cell_type": "code",
   "execution_count": 21,
   "id": "07c896e3",
   "metadata": {},
   "outputs": [],
   "source": [
    "y_pred = model.predict(x_test)"
   ]
  },
  {
   "cell_type": "code",
   "execution_count": 26,
   "id": "b6724e48",
   "metadata": {},
   "outputs": [
    {
     "name": "stdout",
     "output_type": "stream",
     "text": [
      "8\n"
     ]
    }
   ],
   "source": [
    "import numpy as np\n",
    "\n",
    "print(np.argmax(y_pred[1]))"
   ]
  },
  {
   "cell_type": "code",
   "execution_count": 61,
   "id": "6a764f6d",
   "metadata": {},
   "outputs": [
    {
     "name": "stdout",
     "output_type": "stream",
     "text": [
      "___________________________\n",
      "This ship's Image. And prediction says this is ship\n"
     ]
    },
    {
     "data": {
      "text/plain": [
       "<matplotlib.image.AxesImage at 0x291a3633130>"
      ]
     },
     "execution_count": 61,
     "metadata": {},
     "output_type": "execute_result"
    },
    {
     "data": {
      "image/png": "[encoded data removed]",
      "text/plain": [
       "<Figure size 288x288 with 1 Axes>"
      ]
     },
     "metadata": {
      "needs_background": "light"
     },
     "output_type": "display_data"
    }
   ],
   "source": [
    "print('___________________________')\n",
    "print(\"This {0}'s Image. And prediction says this is {1}\".format(class_name[y_test[1][0]], class_name[np.argmax(y_pred[1])]))\n",
    "\n",
    "plt.matshow(x_test[1], 1)"
   ]
  },
  {
   "cell_type": "code",
   "execution_count": null,
   "id": "6374d605",
   "metadata": {},
   "outputs": [],
   "source": []
  }
 ],
 "metadata": {
  "kernelspec": {
   "display_name": "Python 3 (ipykernel)",
   "language": "python",
   "name": "python3"
  },
  "language_info": {
   "codemirror_mode": {
    "name": "ipython",
    "version": 3
   },
   "file_extension": ".py",
   "mimetype": "text/x-python",
   "name": "python",
   "nbconvert_exporter": "python",
   "pygments_lexer": "ipython3",
   "version": "3.9.12"
  }
 },
 "nbformat": 4,
 "nbformat_minor": 5
}
